{
  "nbformat": 4,
  "nbformat_minor": 0,
  "metadata": {
    "colab": {
      "provenance": []
    },
    "kernelspec": {
      "name": "python3",
      "display_name": "Python 3"
    },
    "language_info": {
      "name": "python"
    }
  },
  "cells": [
    {
      "cell_type": "code",
      "source": [
        "def mul(A, B):\n",
        "    \"\"\"\n",
        "    Returns the product of the matrix A by the matrix B.\n",
        "    Returns the empty list [] if the matrix dimensions\n",
        "    are not consistent for multiplication.\n",
        "    \"\"\"\n",
        "    LA = len(A)   # تعداد سطرهای A\n",
        "    LB = len(B)   # تعداد سطرهای B\n",
        "    CB = len(B[0])  # تعداد ستون‌های B\n",
        "\n",
        "    if len(A[0]) != LB:  # بررسی ابعاد ماتریس\n",
        "        return []  # در صورت ناسازگاری ابعاد، مقدار خالی برمی‌گردد.\n",
        "\n",
        "    # ایجاد ماتریس نتیجه با مقدار اولیه صفر\n",
        "    final = [[0 for _ in range(CB)] for _ in range(LA)]\n",
        "\n",
        "    # انجام ضرب ماتریسی\n",
        "    for i in range(LA):  # پیمایش سطرهای A\n",
        "        for j in range(CB):  # پیمایش ستون‌های B\n",
        "            for k in range(LB):  # ضرب سطری A در ستونی B\n",
        "                final[i][j] += A[i][k] * B[k][j]\n",
        "\n",
        "    return final  # بازگرداندن ماتریس نهایی\n",
        "\n",
        "\n",
        "# تعریف ماتریس‌ها\n",
        "A = [[1, 0, 0],\n",
        "     [0, 0, 3],\n",
        "     [0, 2, 0]]\n",
        "\n",
        "B = [[1, 1],\n",
        "     [0, 0.5],\n",
        "     [2, 1.0/3.0]]\n",
        "\n",
        "C = [[1, 0, 0],\n",
        "     [0, 0, 0.5],\n",
        "     [0, 1.0/3.0, 0]]\n",
        "\n",
        "# اجرای تابع ضرب ماتریس\n",
        "print(\"A × B =\", mul(A, B))\n",
        "print(\"B × A =\", mul(B, A))\n",
        "print(\"A × C =\", mul(A, C))\n"
      ],
      "metadata": {
        "colab": {
          "base_uri": "https://localhost:8080/"
        },
        "id": "1nsMaciOBt7O",
        "outputId": "a8f1ad08-bdc0-47bb-e225-71106ce45549"
      },
      "execution_count": 21,
      "outputs": [
        {
          "output_type": "stream",
          "name": "stdout",
          "text": [
            "A × B = [[1, 1.0], [6, 1.0], [0, 1.0]]\n",
            "B × A = []\n",
            "A × C = [[1, 0.0, 0.0], [0, 1.0, 0.0], [0, 0.0, 1.0]]\n"
          ]
        }
      ]
    }
  ]
}