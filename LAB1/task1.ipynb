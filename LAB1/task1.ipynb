{
  "nbformat": 4,
  "nbformat_minor": 0,
  "metadata": {
    "colab": {
      "provenance": []
    },
    "kernelspec": {
      "name": "python3",
      "display_name": "Python 3"
    },
    "language_info": {
      "name": "python"
    }
  },
  "cells": [
    {
      "cell_type": "code",
      "source": [
        "import numpy as np\n",
        "\n",
        "A = np.random.rand(200,10)\n",
        "B = np.zeros_like(A)\n"
      ],
      "metadata": {
        "id": "ATKNXzNi48pI"
      },
      "execution_count": 12,
      "outputs": []
    },
    {
      "cell_type": "code",
      "source": [
        "mu = np.zeros(A.shape[1])\n",
        "for i in range(A.shape[0]):\n",
        "  mu += A[i]\n",
        "mu /= A.shape[0]\n"
      ],
      "metadata": {
        "id": "xNZregVg15CP"
      },
      "execution_count": 13,
      "outputs": []
    },
    {
      "cell_type": "code",
      "source": [
        "for i in range(A.shape[0]):\n",
        "    B[i] = A[i] - mu\n",
        "\n",
        "B\n",
        "# The provided code computes a centered version of array A by subtracting the\n",
        "#mean mu of each column from every element in the corresponding rows"
      ],
      "metadata": {
        "colab": {
          "base_uri": "https://localhost:8080/"
        },
        "id": "PmiTPnEu1-bj",
        "outputId": "59685d07-d2a4-4dda-f9a7-8185a47a1c41"
      },
      "execution_count": 14,
      "outputs": [
        {
          "output_type": "execute_result",
          "data": {
            "text/plain": [
              "array([[-0.27374422,  0.01368476,  0.26727013, ..., -0.28517002,\n",
              "        -0.44430772, -0.08384145],\n",
              "       [-0.11561008, -0.28468254,  0.43920051, ...,  0.32744407,\n",
              "         0.07331608, -0.15541486],\n",
              "       [-0.22270749,  0.25704544,  0.42259306, ...,  0.25618123,\n",
              "        -0.47054123, -0.07971698],\n",
              "       ...,\n",
              "       [-0.12960241,  0.07440767,  0.11097321, ...,  0.41879845,\n",
              "        -0.4081141 ,  0.45155353],\n",
              "       [ 0.50644009, -0.04583697,  0.09171632, ..., -0.20161244,\n",
              "         0.13345328, -0.42786623],\n",
              "       [-0.46473462,  0.22820874,  0.37999956, ..., -0.14174571,\n",
              "         0.25574117,  0.23231823]])"
            ]
          },
          "metadata": {},
          "execution_count": 14
        }
      ]
    },
    {
      "cell_type": "code",
      "source": [
        "B = A - np.mean(A, axis=0)\n",
        "B"
      ],
      "metadata": {
        "colab": {
          "base_uri": "https://localhost:8080/"
        },
        "id": "5uG1AFKQ1-xN",
        "outputId": "13e87553-bfb6-4686-c65e-89cee8cce057"
      },
      "execution_count": 15,
      "outputs": [
        {
          "output_type": "execute_result",
          "data": {
            "text/plain": [
              "array([[-0.27374422,  0.01368476,  0.26727013, ..., -0.28517002,\n",
              "        -0.44430772, -0.08384145],\n",
              "       [-0.11561008, -0.28468254,  0.43920051, ...,  0.32744407,\n",
              "         0.07331608, -0.15541486],\n",
              "       [-0.22270749,  0.25704544,  0.42259306, ...,  0.25618123,\n",
              "        -0.47054123, -0.07971698],\n",
              "       ...,\n",
              "       [-0.12960241,  0.07440767,  0.11097321, ...,  0.41879845,\n",
              "        -0.4081141 ,  0.45155353],\n",
              "       [ 0.50644009, -0.04583697,  0.09171632, ..., -0.20161244,\n",
              "         0.13345328, -0.42786623],\n",
              "       [-0.46473462,  0.22820874,  0.37999956, ..., -0.14174571,\n",
              "         0.25574117,  0.23231823]])"
            ]
          },
          "metadata": {},
          "execution_count": 15
        }
      ]
    },
    {
      "cell_type": "code",
      "source": [],
      "metadata": {
        "id": "bhCECUi_32N2"
      },
      "execution_count": 15,
      "outputs": []
    }
  ]
}